{
 "cells": [
  {
   "cell_type": "markdown",
   "id": "ef24cb10-f493-42db-a17a-aa97cab3982c",
   "metadata": {},
   "source": [
    "### 导入tiktoken，使用tiktoken计算一下本次提示词所要消耗的token数量是多少"
   ]
  },
  {
   "cell_type": "code",
   "execution_count": 1,
   "id": "22b25bb7-91e1-4ac5-9476-bc31c6ef8eba",
   "metadata": {},
   "outputs": [],
   "source": [
    "import tiktoken"
   ]
  },
  {
   "cell_type": "code",
   "execution_count": 2,
   "id": "7908120b-d081-46ba-bd7f-7483adda421d",
   "metadata": {},
   "outputs": [
    {
     "data": {
      "text/plain": [
       "<Encoding 'cl100k_base'>"
      ]
     },
     "execution_count": 2,
     "metadata": {},
     "output_type": "execute_result"
    }
   ],
   "source": [
    "encoding = tiktoken.encoding_for_model(\"gpt-3.5-turbo\")\n",
    "encoding"
   ]
  },
  {
   "cell_type": "code",
   "execution_count": 3,
   "id": "cd5c76f3-5769-430a-bc9d-27f604a1d033",
   "metadata": {},
   "outputs": [
    {
     "data": {
      "text/plain": [
       "38"
      ]
     },
     "execution_count": 3,
     "metadata": {},
     "output_type": "execute_result"
    }
   ],
   "source": [
    "len(encoding.encode(\"请介绍一下海南热带海洋学院这所大学以及他的二级学院海洋信息工程学院\"))"
   ]
  },
  {
   "cell_type": "markdown",
   "id": "a2e95160-88b3-47ed-b15d-388417586d27",
   "metadata": {},
   "source": [
    "#### 本次提示词计算得出所要消耗的提示词数量为38"
   ]
  },
  {
   "cell_type": "markdown",
   "id": "75de0823-8a0a-422b-b54f-b753bd29d2ab",
   "metadata": {},
   "source": [
    "### 导入OpenAI库，引用OpenAI的官方Python库"
   ]
  },
  {
   "cell_type": "code",
   "execution_count": 4,
   "id": "318144d7-f882-4ead-a2cb-07dbeb5d1dee",
   "metadata": {},
   "outputs": [],
   "source": [
    "from openai import OpenAI"
   ]
  },
  {
   "cell_type": "markdown",
   "id": "85fed97e-ba75-432d-847e-0f49426744af",
   "metadata": {},
   "source": [
    "### 导入自己的OpenAI的`api_key`"
   ]
  },
  {
   "cell_type": "code",
   "execution_count": 5,
   "id": "cacf03aa-2f9c-4886-9af5-2f4274e4fddc",
   "metadata": {},
   "outputs": [],
   "source": [
    "client = OpenAI(api_key = \"<请输入自己的api_key>\",\n",
    "               base_url=\"https://api.aigc369.com/v1\")"
   ]
  },
  {
   "cell_type": "markdown",
   "id": "80d47365-baa5-4c10-a764-c191ebd40407",
   "metadata": {},
   "source": [
    "### 使用`gpt-4o-2024-05-13`模型给Chat-GPT进行提问并返回Chat-GPT的回答结果"
   ]
  },
  {
   "cell_type": "code",
   "execution_count": 6,
   "id": "393f80a1-a2da-46da-bfbf-1443f1350bcd",
   "metadata": {},
   "outputs": [
    {
     "name": "stdout",
     "output_type": "stream",
     "text": [
      "海南热带海洋学院（Hainan Tropical Ocean University，简称HTOU）位于中国海南省，是一所以热带海洋科学和海洋研究为特色的省属全日制本科院校。以下是对该校及其二级学院“海洋信息工程学院”的简介：\n",
      "\n",
      "### 海南热带海洋学院 (HTOU)\n",
      "\n",
      "#### 概况\n",
      "海南热带海洋学院成立于1958年，前身是海南师范学院，后经过多次改制和更名，最终成为一所以热带海洋和渔业科学为主要特色的高校。学校致力于为国家和地方培养具有创新能力和实践能力的高素质人才。\n",
      "\n",
      "#### 学科设置\n",
      "海南热带海洋学院设有多个院系，涵盖理学、工学、农学、管理学、教育学等多个领域。学校在海洋科学、渔业、生态环境保护等领域具有较高的教学和科研水平。\n",
      "\n",
      "### 海洋信息工程学院\n",
      "\n",
      "#### 概况\n",
      "海洋信息工程学院是海南热带海洋学院的二级学院之一，主要致力于培养具备海洋信息工程和信息技术应用能力的专业人才。该学院结合了海洋科学与信息技术，强调跨学科的综合性和实用性教育。\n",
      "\n",
      "#### 专业设置\n",
      "该学院常设以下专业（具体专业设置可能随着学科发展有所调整）：\n",
      "- 海洋信息科学与技术\n",
      "- 计算机科学与技术\n",
      "- 信息工程\n",
      "- 电子信息工程\n",
      "\n",
      "#### 教学与科研\n",
      "海洋信息工程学院注重理论与实践相结合，学生需要参与各类科研项目和实际工程项目。该学院还与多家企事业单位建立了合作关系，提供实习和就业机会。学院的科研重点包括但不限于海洋数据采集与处理、海洋监测技术、海洋环境信息系统等领域。\n",
      "\n",
      "#### 师资力量\n",
      "学院拥有一支专业素质高、科研能力强的师资队伍，包括教授、副教授以及具备行业经验的工程师和技术人员。许多教师都参与了国内外的重要科研项目，并在相关领域拥有丰富的研究成果。\n",
      "\n",
      "### 特色与优势\n",
      "- **跨学科融合**: 将信息技术与海洋科学相结合，满足现代海洋事业的发展需求。\n",
      "- **实践导向**: 注重实习基地建设，学生有机会参与实际项目，提升实践动手能力。\n",
      "- **多元合作**: 与政府、研究机构、企业合作，形成多层次、多方面的教育与研究网络。\n",
      "\n",
      "海南热带海洋学院及其海洋信息工程学院在海洋与信息技术的交叉领域具有较强的优势，致力于为国家和地方的海洋信息化建设培养优秀人才。\n"
     ]
    }
   ],
   "source": [
    "response = client.chat.completions.create(\n",
    "    model = \"gpt-4o-2024-05-13\",\n",
    "    messages = [\n",
    "        {\"role\":\"user\",\"content\":\"请介绍一下\\\"海南热带海洋学院\\\"这所大学以及他的二级学院\\\"海洋信息工程学院\\\"\"}\n",
    "    ]\n",
    ")\n",
    "print(response.choices[0].message.content)"
   ]
  },
  {
   "cell_type": "markdown",
   "id": "55dc0042-8ff0-4e27-87da-aeb4c04b2d4f",
   "metadata": {},
   "source": [
    "### 输出本次使用Chat-GPT所消耗的token"
   ]
  },
  {
   "cell_type": "code",
   "execution_count": 7,
   "id": "5bd0d248-2bf8-4ef4-a050-90eaec5919ee",
   "metadata": {},
   "outputs": [
    {
     "name": "stdout",
     "output_type": "stream",
     "text": [
      "644\n"
     ]
    }
   ],
   "source": [
    "print(response.usage.total_tokens)"
   ]
  },
  {
   "cell_type": "code",
   "execution_count": null,
   "id": "04545aef-d6f4-4f96-add1-566e3f185f56",
   "metadata": {},
   "outputs": [],
   "source": []
  }
 ],
 "metadata": {
  "kernelspec": {
   "display_name": "Python 3 (ipykernel)",
   "language": "python",
   "name": "python3"
  },
  "language_info": {
   "codemirror_mode": {
    "name": "ipython",
    "version": 3
   },
   "file_extension": ".py",
   "mimetype": "text/x-python",
   "name": "python",
   "nbconvert_exporter": "python",
   "pygments_lexer": "ipython3",
   "version": "3.10.10"
  }
 },
 "nbformat": 4,
 "nbformat_minor": 5
}
